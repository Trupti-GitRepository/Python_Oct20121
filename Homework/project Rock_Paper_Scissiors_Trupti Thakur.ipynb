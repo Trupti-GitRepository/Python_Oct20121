{
 "cells": [
  {
   "cell_type": "code",
   "execution_count": null,
   "id": "92266db7",
   "metadata": {},
   "outputs": [],
   "source": [
    "#pseudocode of game of 'Rock', 'Paper', 'Scissors'\n",
    "\n",
    "#1. Take a user input \n",
    "#2. Randomly generated computer choice \n",
    "#3. match user input with computre choice\n",
    "#4  if user choice match with computers then user wins\n"
   ]
  },
  {
   "cell_type": "code",
   "execution_count": 53,
   "id": "88f1a64d",
   "metadata": {},
   "outputs": [],
   "source": [
    "def game_R_P_S(user_choice, computer_choice):\n",
    "    \n",
    "    if((user_choice == \"Rock\") and (computer_choice ==\"Rock\")):\n",
    "            print(\"game is draw\")\n",
    "        \n",
    "    elif((user_choice ==\"Scissors\")and(computer_choice ==\"Scissors\")):\n",
    "            print(\"game is draw\")\n",
    "        \n",
    "    elif((user_choice ==\"Paper\")and(computer_choice ==\"Paper\")):\n",
    "            print(\"game is draw\")\n",
    "        \n",
    "    elif((user_choice ==\"Rock\")and(computer_choice ==\"Scissors\")):\n",
    "            print(\"User wins\")\n",
    "            \n",
    "    elif((user_choice ==\"Scissors\")and(computer_choice ==\"Paper\")):\n",
    "             print(\"User wins\")\n",
    "            \n",
    "    elif ((user_choice ==\"Paper\")and(computer_choice ==\"Rock\")):\n",
    "            print(\"User wins\")   \n",
    "        \n",
    "    elif((user_choice ==\"Scissors\")and(computer_choice ==\"Rock\")):\n",
    "             print(\"Computer wins\")\n",
    "            \n",
    "    elif((user_choice ==\"Paper\")and(computer_choice ==\"Scissors\")):\n",
    "             print(\"Computer wins\")\n",
    "            \n",
    "    elif((user_choice ==\"Rock\")and(computer_choice ==\"Paper\")) :\n",
    "             print(\"Computer wins\")\n",
    "            \n",
    "    return"
   ]
  },
  {
   "cell_type": "code",
   "execution_count": 54,
   "id": "5c77c4c4",
   "metadata": {},
   "outputs": [
    {
     "name": "stdout",
     "output_type": "stream",
     "text": [
      "****Game of rock, paper, scissors*****\n",
      "Enter your choice between 'Rock','Paper','Scissors' : Rock\n",
      "user_choice: Rock\n",
      "computer_choice: ['Scissors']\n",
      "None\n"
     ]
    }
   ],
   "source": [
    "import random as rand\n",
    "print(\"****Game of rock, paper, scissors*****\")\n",
    "\n",
    "list_of_choice=['Rock','Paper','Scissors']\n",
    "\n",
    "#Take user input for the game\n",
    "user_choice = input(\"Enter your choice between 'Rock','Paper','Scissors' : \")\n",
    "print(f\"user_choice: {user_choice}\")\n",
    "\n",
    "#Take computer choice\n",
    "computer_choice=rand.choices(list_of_choice)\n",
    "print(f\"computer_choice: {computer_choice}\")\n",
    "\n",
    "print(game_R_P_S(user_choice, computer_choice))"
   ]
  },
  {
   "cell_type": "code",
   "execution_count": null,
   "id": "ab033d17",
   "metadata": {},
   "outputs": [],
   "source": []
  }
 ],
 "metadata": {
  "kernelspec": {
   "display_name": "Python 3",
   "language": "python",
   "name": "python3"
  },
  "language_info": {
   "codemirror_mode": {
    "name": "ipython",
    "version": 3
   },
   "file_extension": ".py",
   "mimetype": "text/x-python",
   "name": "python",
   "nbconvert_exporter": "python",
   "pygments_lexer": "ipython3",
   "version": "3.8.8"
  }
 },
 "nbformat": 4,
 "nbformat_minor": 5
}
