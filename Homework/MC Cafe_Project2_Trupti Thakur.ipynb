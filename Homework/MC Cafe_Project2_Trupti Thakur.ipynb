{
 "cells": [
  {
   "cell_type": "code",
   "execution_count": 55,
   "id": "3c9f4907",
   "metadata": {},
   "outputs": [],
   "source": [
    "''' App to order Coffee'''\n",
    "def menu_items():\n",
    "    print(\"**Here is the menu**\")\n",
    "    print(f\"Coffee\\n\\\n",
    "            Espresso - $1.50\\n\\\n",
    "            Americano - $2.00\\n\\\n",
    "            Caffe latte - $2.25\\n\\\n",
    "            Mocha - $2.25\\n\\\n",
    "            Cappucino - $2.50\\n\\\n",
    "            Macchiato - $2.50\\n\\\n",
    "        Tea\\n\\\n",
    "            White tea - $1.50\\n\\\n",
    "            Green tea - $2.00\\n\\\n",
    "            Oolong tea - $2.25\\n\\\n",
    "            Black tea - $2.25\\n\\\n",
    "            Earl Grey - $2.50\\n\\\n",
    "            Matcha - $2.50\\n\\\n",
    "    Pastries\\n\\\n",
    "            Croissant - $5.50\\n\\\n",
    "            Cinnamon roll - $4.50\\n\\\n",
    "            Banana bread - $4.25\\n\\\n",
    "            Pumpkin bread - $3.75\\n\\\n",
    "           Sticky bun - $4.25\\n\\ Apple turnover - $3.75\")\n",
    "\n",
    "\n",
    "\n"
   ]
  },
  {
   "cell_type": "code",
   "execution_count": 54,
   "id": "6791c109",
   "metadata": {},
   "outputs": [
    {
     "data": {
      "text/plain": [
       "{'Espresso': 1.5,\n",
       " 'Americano': 2.0,\n",
       " 'Caffe latte': 2.25,\n",
       " 'Mocha': 2.25,\n",
       " 'Cappucino': 2.5,\n",
       " 'Macchiato': 2.5,\n",
       " 'White tea': 1.5,\n",
       " 'Green tea': 2.0,\n",
       " 'Oolong tea': 2.25,\n",
       " 'Black tea ': 2.25,\n",
       " 'Earl Grey': 2.5,\n",
       " 'Matcha': 2.5,\n",
       " ' Croissant': 5.5,\n",
       " 'Cinnamon roll': 4.5,\n",
       " 'Banana bread': 4.25,\n",
       " 'Pumpkin bread': 3.75,\n",
       " 'Sticky bun': 4.25,\n",
       " 'Apple turnover': 3.75}"
      ]
     },
     "execution_count": 54,
     "metadata": {},
     "output_type": "execute_result"
    }
   ],
   "source": [
    "# Dictionary items and price\n",
    "menu_dict={'Espresso' :1.50, \"Americano\" :2.00,\"Caffe latte\" :2.25,\"Mocha\":2.25,\"Cappucino\":2.50,\"Macchiato\":2.50,\n",
    "         \"White tea\":1.50,\"Green tea\":2.00,\n",
    "            \"Oolong tea\":2.25,\n",
    "            \"Black tea \":2.25,\n",
    "            \"Earl Grey\":2.50,\n",
    "            \"Matcha\":2.50,\n",
    "         \" Croissant\":5.50,\n",
    "            \"Cinnamon roll\":4.50,\n",
    "            \"Banana bread\":4.25,\n",
    "            \"Pumpkin bread\":3.75,\n",
    "           \"Sticky bun\":4.25,\"Apple turnover\":3.75}\n",
    "menu_dict"
   ]
  },
  {
   "cell_type": "code",
   "execution_count": null,
   "id": "88cea08d",
   "metadata": {
    "scrolled": true
   },
   "outputs": [
    {
     "name": "stdout",
     "output_type": "stream",
     "text": [
      "Welcome to MC Cafe!\n"
     ]
    }
   ],
   "source": [
    "#Display greetings\n",
    "    \n",
    "greetings = \"Welcome to MC Cafe!\"\n",
    "print(greetings)\n",
    "#Display menu\n",
    "reply=input(\"Would you like to see the menu: \").lower()\n",
    "if reply == 'yes':\n",
    "          menu_items()\n",
    "else:\n",
    "          print(\"Thank you for visiting MC Cafe!\")"
   ]
  },
  {
   "cell_type": "code",
   "execution_count": 51,
   "id": "d47df76a",
   "metadata": {},
   "outputs": [
    {
     "name": "stdout",
     "output_type": "stream",
     "text": [
      "Would you like to order: yes\n",
      "Please enter a item from the list: Cappucino\n",
      "Please enter quantity for the item: 1\n",
      "2.5\n",
      "2.65\n",
      "Here is you ordered menulist\n",
      ":Cappucino\t\t 2.5\n",
      " Total is 2.65\n",
      "Thank you for visiting MC Cafe!\n",
      "Thank you for visiting MC Cafe!\n"
     ]
    }
   ],
   "source": [
    "#Order cofee\n",
    "tax=0.06\n",
    "subtotal=0\n",
    "total=0\n",
    "\n",
    "reply=input(\"Would you like to order: \").lower()\n",
    "if reply == 'yes':\n",
    "    item1 = input(\"Please enter a item from the list: \")\n",
    "    qty1 = int(input(\"Please enter quantity for the item: \"))\n",
    "    #print(menu_dict)\n",
    "    \n",
    "    for i in menu_dict.keys():\n",
    "        if i == item1:\n",
    "            price = menu_dict[i]\n",
    "            #print(price)\n",
    "            price *= qty \n",
    "            tax= price * 0.06\n",
    "            subtotal= tax + price\n",
    "            total +=subtotal\n",
    "           # print(total)\n",
    "            print(f\"Here is you ordered menulist:\\n{item1}\\t\\t {price}\\n Total is {total}\")\n",
    "            print( \"Thank you for visiting MC Cafe!\")\n",
    "    else:\n",
    "        print(\"Thank you for visiting MC Cafe!\")"
   ]
  }
 ],
 "metadata": {
  "kernelspec": {
   "display_name": "Python 3",
   "language": "python",
   "name": "python3"
  },
  "language_info": {
   "codemirror_mode": {
    "name": "ipython",
    "version": 3
   },
   "file_extension": ".py",
   "mimetype": "text/x-python",
   "name": "python",
   "nbconvert_exporter": "python",
   "pygments_lexer": "ipython3",
   "version": "3.8.8"
  }
 },
 "nbformat": 4,
 "nbformat_minor": 5
}
