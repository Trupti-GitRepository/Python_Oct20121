{
 "cells": [
  {
   "cell_type": "markdown",
   "metadata": {},
   "source": [
    "1. Round 4.5667 to the nearest hundreth using a build-in function, round()."
   ]
  },
  {
   "cell_type": "code",
   "execution_count": 1,
   "metadata": {},
   "outputs": [
    {
     "data": {
      "text/plain": [
       "4.57"
      ]
     },
     "execution_count": 1,
     "metadata": {},
     "output_type": "execute_result"
    }
   ],
   "source": [
    "round(4.5667,2)"
   ]
  },
  {
   "cell_type": "markdown",
   "metadata": {},
   "source": [
    "2. Convert \"657\" to an integer data type"
   ]
  },
  {
   "cell_type": "code",
   "execution_count": 5,
   "metadata": {},
   "outputs": [
    {
     "name": "stdout",
     "output_type": "stream",
     "text": [
      "Data type of the num : <class 'int'>\n"
     ]
    }
   ],
   "source": [
    "num=int(\"657\")\n",
    "print(\"Data type of the num :\",type(num))"
   ]
  },
  {
   "cell_type": "markdown",
   "metadata": {},
   "source": [
    "3.\n",
    "Write a program to get two numbers from a user. Then, create a secret code where a code consists of 6 numbers and each number is randomly generated number between two numbers from a user. "
   ]
  },
  {
   "cell_type": "code",
   "execution_count": 2,
   "metadata": {},
   "outputs": [
    {
     "name": "stdout",
     "output_type": "stream",
     "text": [
      "Enter a number: 10\n",
      "Enter a number: 20\n"
     ]
    }
   ],
   "source": [
    "#user input to generate a random number between given two numbers\n",
    "num1=int(input(\"Enter a number: \"))\n",
    "num2=int(input(\"Enter a number: \"))"
   ]
  },
  {
   "cell_type": "code",
   "execution_count": 14,
   "metadata": {},
   "outputs": [
    {
     "name": "stdout",
     "output_type": "stream",
     "text": [
      "141116181216\n"
     ]
    }
   ],
   "source": [
    "#Generate six random numbers between two numbers given by users.\n",
    "#import random function\n",
    "import random as rand\n",
    "rand_1=rand.randint(num1, num2)\n",
    "rand_2=rand.randint(num1, num2)\n",
    "rand_3=rand.randint(num1, num2)\n",
    "rand_4=rand.randint(num1, num2)\n",
    "rand_5=rand.randint(num1, num2)\n",
    "rand_6=rand.randint(num1, num2)\n",
    "print(rand_1,rand_2,rand_3,rand_4,rand_5,rand_6,sep='')\n",
    "\n",
    "\n"
   ]
  },
  {
   "cell_type": "markdown",
   "metadata": {},
   "source": [
    "4.\n",
    "Write a program to center align below text where number of characters per line is 40:\n",
    "\n",
    "    Hickory, dickory, dock,\n",
    "    The mouse ran up the clock.\n",
    "    The clock struck one,\n",
    "    The mouse ran down,\n",
    "    Hickory, dickory, dock\n",
    "\n",
    "<b>Do not use string's center method! </b>"
   ]
  },
  {
   "cell_type": "code",
   "execution_count": null,
   "metadata": {},
   "outputs": [],
   "source": [
    "line1 = \"Hickory, dickory, dock,\"\n",
    "line2 = \"The mouse ran up the clock.\"\n",
    "line3 = \"The clock struck one,\"\n",
    "line4 = \"The mouse ran down,\"\n",
    "line5 = \"Hickory, dickory, dock\"\n",
    "\n"
   ]
  },
  {
   "cell_type": "markdown",
   "metadata": {},
   "source": [
    "5. Write a function to calculate the miles per gallon.\n",
    "Get a miles driven and gallons used from a user and call your function to calculate the miles per gallon. "
   ]
  },
  {
   "cell_type": "code",
   "execution_count": 19,
   "metadata": {},
   "outputs": [],
   "source": [
    "def calMilestoGallon():\n",
    "    miles_drive=int(input(\"Enter the miles driven: \"))\n",
    "    gallons_used=int(input(\"Enter the gallons used: \"))\n",
    "    \n",
    "    return float(miles_drive / gallons_used)\n",
    "    \n",
    "    "
   ]
  },
  {
   "cell_type": "code",
   "execution_count": 20,
   "metadata": {},
   "outputs": [
    {
     "name": "stdout",
     "output_type": "stream",
     "text": [
      "Enter the miles driven: 1000\n",
      "Enter the gallons used: 10\n",
      "100.0\n"
     ]
    }
   ],
   "source": [
    "print(calMilestoGallon())"
   ]
  },
  {
   "cell_type": "code",
   "execution_count": null,
   "metadata": {},
   "outputs": [],
   "source": []
  }
 ],
 "metadata": {
  "kernelspec": {
   "display_name": "Python 3",
   "language": "python",
   "name": "python3"
  },
  "language_info": {
   "codemirror_mode": {
    "name": "ipython",
    "version": 3
   },
   "file_extension": ".py",
   "mimetype": "text/x-python",
   "name": "python",
   "nbconvert_exporter": "python",
   "pygments_lexer": "ipython3",
   "version": "3.8.8"
  }
 },
 "nbformat": 4,
 "nbformat_minor": 4
}
